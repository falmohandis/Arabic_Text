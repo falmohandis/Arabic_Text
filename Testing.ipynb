{
 "cells": [
  {
   "cell_type": "code",
   "execution_count": 1,
   "id": "99e4569f",
   "metadata": {},
   "outputs": [],
   "source": [
    "import numpy as np\n",
    "import pandas as pd\n",
    "import os\n",
    "\n",
    "# In case you need to install the pdf2image package, uncomment the line below:\n",
    "# !pip install pdf2image\n",
    "import pdf2image\n",
    "from pdf2image import convert_from_path"
   ]
  },
  {
   "cell_type": "markdown",
   "id": "6b75e6cb",
   "metadata": {},
   "source": [
    "**Tasks:**\n",
    "- [.] Load PDFs from `/input_pdfs/`.\n",
    "- [.] Convert each page into an image using `pdf2image`.\n",
    "- [.] Save with clear names (`file_pagenumber.png`)."
   ]
  },
  {
   "cell_type": "code",
   "execution_count": 2,
   "id": "0f08a40c",
   "metadata": {},
   "outputs": [
    {
     "name": "stdout",
     "output_type": "stream",
     "text": [
      "Converted 2 PDF files into images and saved them to /Users/fahim/Documents/GitHub/Arabic_Text/page_images.\n"
     ]
    }
   ],
   "source": [
    "# Iterate through the pdf files obtained from the pdf_loader function, convert them into images and then save the images into a folder a folder called page_images\n",
    "\n",
    "\n",
    "def pdf_to_images(input_folder, output_folder):\n",
    "    \"\"\"\n",
    "    Converts all PDF files in 'input_folder' to images and saves them into 'page_images'.\n",
    "    \n",
    "    Each image file is named using the original PDF filename and the page number.\n",
    "    \"\"\"\n",
    "    \n",
    "    # Make sure the output folder exists\n",
    "    os.makedirs(output_folder, exist_ok=True)\n",
    "    \n",
    "    # Create a list of all PDF files in the input folder\n",
    "    try:\n",
    "        pdf_files = [\n",
    "            os.path.join(input_folder, f)\n",
    "            for f in os.listdir(input_folder)\n",
    "            if f.lower().endswith('.pdf') and os.path.isfile(os.path.join(input_folder, f))\n",
    "        ]\n",
    "    except ValueError as e:\n",
    "        # This part runs if there are no PDF files in the input folder\n",
    "        print(f\"No PDF files found in {input_folder}. Please check the folder path.\")\n",
    "        print(e)\n",
    "        raise  # Re-raises the same exception, stopping the program\n",
    "\n",
    "    \n",
    "    for pdf_file in pdf_files: \n",
    "        # Convert each PDF file to images one by one\n",
    "        images = convert_from_path(pdf_file)\n",
    "\n",
    "        # Extract the PDF filename without its directory path and file extension (*.pdf).\n",
    "        pdf_name = os.path.splitext(os.path.basename(pdf_file))[0]\n",
    "        \n",
    "\n",
    "        # Iterate over the images returned for each page in the PDF.\n",
    "        # 'enumerate' provides both the page index (i) and the image object.\n",
    "        for i, image in enumerate(images):\n",
    "\n",
    "            # Construct a filename for the image that includes the original PDF name and the page number.\n",
    "            image_filename = f\"{pdf_name}_page_{i + 1}.jpg\"\n",
    "\n",
    "            # Save the image as a JPEG in the output folder.\n",
    "            image.save(os.path.join(output_folder, image_filename),             # os.path.join ensures a proper file path regardless of operating system.\n",
    "                        \"JPEG\",           # The \"JPEG\" argument specifies the format.\n",
    "                        quality=95,       # Highest quality without hitting extreme sizes\n",
    "                        optimize=True,    # Reduces file size intelligently\n",
    "                        progressive=True  # Enables progressive JPEG (loads gradually)\n",
    "                    )\n",
    "    \n",
    "    print(f\"Converted {len(pdf_files)} PDF files into images and saved them to {output_folder}.\")\n",
    "\n",
    "\n",
    "\n",
    "# Start from Current Directory:\n",
    "current_directory = os.getcwd()\n",
    "\n",
    "# Define the path to the input_pdfs folder\n",
    "input_pdfs_path = os.path.join(current_directory, 'input_pdfs')\n",
    "\n",
    "# images_folder= os.path.join(current_directory, 'page_images')\n",
    "output_images_path = os.path.join(current_directory, 'page_images')\n",
    "\n",
    "\n",
    "# Run the pdf_to_images function\n",
    "pdf_to_images(input_pdfs_path, output_images_path)"
   ]
  }
 ],
 "metadata": {
  "kernelspec": {
   "display_name": "base",
   "language": "python",
   "name": "python3"
  },
  "language_info": {
   "codemirror_mode": {
    "name": "ipython",
    "version": 3
   },
   "file_extension": ".py",
   "mimetype": "text/x-python",
   "name": "python",
   "nbconvert_exporter": "python",
   "pygments_lexer": "ipython3",
   "version": "3.11.5"
  }
 },
 "nbformat": 4,
 "nbformat_minor": 5
}
